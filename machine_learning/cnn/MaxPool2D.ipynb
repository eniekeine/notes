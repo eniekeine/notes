{
 "cells": [
  {
   "cell_type": "markdown",
   "metadata": {},
   "source": [
    "# torch.nn.MaxPool2D\n",
    "\n",
    "`torch.nn.MaxPool2d(kernel_size, stride=None, padding=0, dilation=1, return_indices=False, ceil_mode=False)`\n",
    "\n",
    "- 간단하게 말해서, 커널이 인풋 평면을 훑으며 최대값을 뽑아낸다.\n",
    "- 인풋 평면은 3차원 혹은 4차원 인풋만 받는다.\n",
    "- 3차원일 경우 `(채널, 높이, 너비)`, 4차원일 경우 `(배치 사이즈, 채널, 높이, 너비)`임을 가정하며, 실제로는 1, 2차원을 제외하고는 건드리지 않는다.\n",
    "- 다음 예시는 4x4 평면에서 2x2 커널을 2칸 간격으로 움직이며 각 영역에서 최대값을 뽑아 새로운 평면을 만든다."
   ]
  },
  {
   "cell_type": "code",
   "execution_count": 1,
   "metadata": {},
   "outputs": [
    {
     "name": "stdout",
     "output_type": "stream",
     "text": [
      "tensor([[[[2., 4., 2., 8.],\n",
      "          [8., 0., 4., 6.],\n",
      "          [1., 6., 2., 5.],\n",
      "          [5., 1., 4., 3.]]]])\n",
      "MaxPool2d(kernel_size=2, stride=2, padding=0, dilation=1, ceil_mode=False)\n",
      "tensor([[[[8., 8.],\n",
      "          [6., 5.]]]])\n"
     ]
    }
   ],
   "source": [
    "import torch\n",
    "import torch.nn as nn\n",
    "\n",
    "input = torch.randint(0,9,(1,1,4,4)).float()\n",
    "model = nn.MaxPool2d(kernel_size=2, stride=2)\n",
    "output = model.forward(input)\n",
    "\n",
    "print(input)\n",
    "print(model)\n",
    "print(output)\n",
    "assert(max(input[0,0,0,0], input[0,0,0,1], input[0,0,1,0], input[0,0,1,1]) == output[0,0,0,0])\n",
    "assert(max(input[0,0,0,2], input[0,0,0,3], input[0,0,1,2], input[0,0,1,3]) == output[0,0,0,1])\n",
    "assert(max(input[0,0,2,0], input[0,0,2,1], input[0,0,3,0], input[0,0,3,1]) == output[0,0,1,0])\n",
    "assert(max(input[0,0,2,2], input[0,0,2,3], input[0,0,3,2], input[0,0,3,3]) == output[0,0,1,1])"
   ]
  }
 ],
 "metadata": {
  "kernelspec": {
   "display_name": "base",
   "language": "python",
   "name": "python3"
  },
  "language_info": {
   "codemirror_mode": {
    "name": "ipython",
    "version": 3
   },
   "file_extension": ".py",
   "mimetype": "text/x-python",
   "name": "python",
   "nbconvert_exporter": "python",
   "pygments_lexer": "ipython3",
   "version": "3.10.12"
  },
  "orig_nbformat": 4
 },
 "nbformat": 4,
 "nbformat_minor": 2
}
