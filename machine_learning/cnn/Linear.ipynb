{
 "cells": [
  {
   "cell_type": "markdown",
   "metadata": {},
   "source": [
    "# torch.nn.Linear\n",
    "\n",
    "`torch.nn.Linear(in_features, out_features, bias=True, device=None, dtype=None)`\n",
    "\n",
    "- 입력된 데이터의 가장 낮은 차원에 선형 변환(linear transformation)을 적용한다.\n",
    "- $x$가 입력, $A$가 가중치, $b$가 편향, $y$가 출력일 때,\n",
    "  $$y = xW^T + b$$\n",
    "- `in_features`는 입력 샘플의 사이즈이다. `out_features`는 출력 샘플의 사이즈이다.\n",
    "- 모델의 가중치 텐서의 크기는 `(out_features, in_features)`가 된다.\n",
    "- 다음 코드를 통해 이 관계가 사실임을 확인할 수 있다."
   ]
  },
  {
   "cell_type": "code",
   "execution_count": 2,
   "metadata": {},
   "outputs": [],
   "source": [
    "import torch.nn as nn\n",
    "for in_feature in range(1, 4):\n",
    "    for out_feature in range(1, 4):\n",
    "        assert(nn.Linear(in_feature,out_feature).weight.shape == (out_feature, in_feature))"
   ]
  },
  {
   "cell_type": "markdown",
   "metadata": {},
   "source": [
    "- 예를 들어, 입력 샘플의 크기가 4, 출력 샘플의 크기가 3일 경우 다음과 같이 정리할 수 있다.\n",
    "  - 입력 : $\\vec{x} = (x_0, x_1, x_2, x_3)$는 크키가 4인 벡터이다.\n",
    "  - 출력 : $\\vec{y} = (y_0, y_1, y_2)$는 크기가 3인 벡터이다.\n",
    "  - 모델 : \n",
    "    - 편향 $\\vec{b} = (b_0, b_1, b_2)$\n",
    "    - 가중치 $W$는 (4x3) 행렬이다.\n",
    "  - $\\vec{y} = \\vec{x}W^T + \\vec{b}$이다.\n",
    "  - ![Alt text](Linear.png)\n",
    "\n",
    "$$\n",
    "\\begin{bmatrix}1&0&1&0\\end{bmatrix}\n",
    "\\begin{bmatrix}\n",
    "1&5&9\\\\\n",
    "2&6&10\\\\\n",
    "3&7&11\\\\\n",
    "4&8&12\n",
    "\\end{bmatrix}\n",
    "+\n",
    "\\begin{bmatrix}\n",
    "0.1&0.2&0.3\n",
    "\\end{bmatrix}\n",
    "=\n",
    "\\begin{bmatrix}\n",
    "4.1&12.2&20.3\n",
    "\\end{bmatrix}$$\n"
   ]
  },
  {
   "cell_type": "code",
   "execution_count": 3,
   "metadata": {},
   "outputs": [
    {
     "name": "stdout",
     "output_type": "stream",
     "text": [
      " *  input : \n",
      " tensor([1., 0., 1., 0.]) torch.Size([4])\n",
      "\n",
      " * wieght : \n",
      " Parameter containing:\n",
      "tensor([[ 1.,  2.,  3.,  4.],\n",
      "        [ 5.,  6.,  7.,  8.],\n",
      "        [ 9., 10., 11., 12.]], requires_grad=True) torch.Size([3, 4])\n",
      "\n",
      " *   bias : \n",
      " Parameter containing:\n",
      "tensor([0.1000, 0.2000, 0.3000], requires_grad=True) torch.Size([3])\n",
      "\n",
      " * output : \n",
      " tensor([ 4.1000, 12.2000, 20.3000], grad_fn=<AddBackward0>) torch.Size([3])\n",
      "\n"
     ]
    }
   ],
   "source": [
    "import torch\n",
    "import torch.nn as nn\n",
    "in_features = 4\n",
    "out_features = 3\n",
    "m = nn.Linear(in_features, out_features)\n",
    "m.weight = torch.nn.Parameter(torch.tensor([\n",
    "    [1, 2, 3, 4],\n",
    "    [5, 6, 7, 8],\n",
    "    [9, 10, 11, 12]\n",
    "]).float())\n",
    "m.bias = torch.nn.Parameter(torch.tensor([0.1, 0.2, 0.3]))\n",
    "input = torch.tensor([1, 0, 1, 0]).float()\n",
    "print(\" *  input : \\n\", input, input.shape, end= '\\n\\n')\n",
    "print(\" * wieght : \\n\", m.weight, m.weight.shape, end= '\\n\\n')\n",
    "print(\" *   bias : \\n\", m.bias, m.bias.shape, end= '\\n\\n')\n",
    "output = m(input)\n",
    "print(\" * output : \\n\", output, output.shape, end= '\\n\\n')"
   ]
  },
  {
   "cell_type": "markdown",
   "metadata": {},
   "source": [
    "- 이렇게 만들어진 모델을, 단지 벡터 하나에만 적용하기 위해 사용할 필요는 없다.\n",
    "- 예를 들어 입력이 행렬일 경우, 각 행이 하나의 $\\vec{x}$벡터가 된다.\n",
    "- 다음 예시 코드에서, 첫번째 행에 대한 출력은 이전 코드의 실행 결과와 같다.\n",
    "\n",
    "$$\n",
    "XW^T + B = Y\\\\[1.2em]\n",
    "\\begin{bmatrix}\n",
    "1&0&1&0\\\\\n",
    "0&1&0&1\\\\\n",
    "1&0&0&1\\\\\n",
    "0&1&1&0\n",
    "\\end{bmatrix}\n",
    "\\begin{bmatrix}\n",
    "1&5&9\\\\\n",
    "2&6&10\\\\\n",
    "3&7&11\\\\\n",
    "4&8&12\n",
    "\\end{bmatrix}+\n",
    "\\begin{bmatrix}\n",
    "0.1 & 0.2 & 0.3\\\\\n",
    "0.1 & 0.2 & 0.3\\\\\n",
    "0.1 & 0.2 & 0.3\\\\\n",
    "0.1 & 0.2 & 0.3\\\\\n",
    "\\end{bmatrix}\n",
    "=\n",
    "\\begin{bmatrix}\n",
    "4.1&12.2&20.3\\\\\n",
    "6.1&14.2&22.3\\\\\n",
    "5.1&13.2&21.3\\\\\n",
    "5.1&13.2&21.3\\\\\n",
    "\\end{bmatrix}\n",
    "$$"
   ]
  },
  {
   "cell_type": "code",
   "execution_count": 4,
   "metadata": {},
   "outputs": [
    {
     "name": "stdout",
     "output_type": "stream",
     "text": [
      "tensor([[ 4.1000, 12.2000, 20.3000],\n",
      "        [ 6.1000, 14.2000, 22.3000],\n",
      "        [ 5.1000, 13.2000, 21.3000],\n",
      "        [ 5.1000, 13.2000, 21.3000]], grad_fn=<AddmmBackward0>)\n"
     ]
    }
   ],
   "source": [
    "input = torch.tensor([\n",
    "    [1, 0, 1, 0],\n",
    "    [0, 1, 0, 1],\n",
    "    [1, 0, 0, 1],\n",
    "    [0, 1, 1, 0]\n",
    "]).float()\n",
    "output = m(input)\n",
    "print(output)"
   ]
  }
 ],
 "metadata": {
  "kernelspec": {
   "display_name": "base",
   "language": "python",
   "name": "python3"
  },
  "language_info": {
   "codemirror_mode": {
    "name": "ipython",
    "version": 3
   },
   "file_extension": ".py",
   "mimetype": "text/x-python",
   "name": "python",
   "nbconvert_exporter": "python",
   "pygments_lexer": "ipython3",
   "version": "3.10.12"
  },
  "orig_nbformat": 4
 },
 "nbformat": 4,
 "nbformat_minor": 2
}
